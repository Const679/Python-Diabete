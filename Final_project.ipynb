{
 "cells": [
  {
   "cell_type": "code",
   "execution_count": 1,
   "metadata": {},
   "outputs": [],
   "source": [
    "from mpl_toolkits.mplot3d import Axes3D\n",
    "from sklearn.preprocessing import StandardScaler\n",
    "import matplotlib.pyplot as plt\n",
    "import numpy as np\n",
    "import pandas as pd\n",
    "import seaborn as snb\n",
    "from sklearn.preprocessing import LabelEncoder"
   ]
  },
  {
   "cell_type": "code",
   "execution_count": 2,
   "metadata": {},
   "outputs": [],
   "source": [
    "# Distribution graphs (histogram/bar graph) of column data\n",
    "def plotPerColumnDistribution(df, nGraphShown, nGraphPerRow):\n",
    "    nunique = df.nunique()\n",
    "    df = df[[col for col in df if nunique[col] > 1 and nunique[col] < 50]] # For displaying purposes, pick columns that have between 1 and 50 unique values\n",
    "    nRow, nCol = df.shape\n",
    "    columnNames = list(df)\n",
    "    nGraphRow = (nCol + nGraphPerRow - 1) / nGraphPerRow\n",
    "    plt.figure(num = None, figsize = (6 * nGraphPerRow, 8 * nGraphRow), dpi = 80, facecolor = 'w', edgecolor = 'k')\n",
    "    for i in range(min(nCol, nGraphShown)):\n",
    "        plt.subplot(nGraphRow, nGraphPerRow, i + 1)\n",
    "        columnDf = df.iloc[:, i]\n",
    "        if (not np.issubdtype(type(columnDf.iloc[0]), np.number)):\n",
    "            valueCounts = columnDf.value_counts()\n",
    "            valueCounts.plot.bar()\n",
    "        else:\n",
    "            columnDf.hist()\n",
    "        plt.ylabel('counts')\n",
    "        plt.xticks(rotation = 90)\n",
    "        plt.title(f'{columnNames[i]} (column {i})')\n",
    "    plt.tight_layout(pad = 1.0, w_pad = 1.0, h_pad = 1.0)\n",
    "    plt.show()\n"
   ]
  },
  {
   "cell_type": "code",
   "execution_count": 3,
   "metadata": {},
   "outputs": [
    {
     "name": "stdout",
     "output_type": "stream",
     "text": [
      "There are 101766 rows and 50 columns\n"
     ]
    }
   ],
   "source": [
    "\n",
    "df= pd.read_csv('diabetic_data.csv', delimiter=',')\n",
    "nRow, nCol = df.shape\n",
    "print(f'There are {nRow} rows and {nCol} columns')"
   ]
  },
  {
   "cell_type": "code",
   "execution_count": 4,
   "metadata": {},
   "outputs": [
    {
     "data": {
      "text/html": [
       "<div>\n",
       "<style scoped>\n",
       "    .dataframe tbody tr th:only-of-type {\n",
       "        vertical-align: middle;\n",
       "    }\n",
       "\n",
       "    .dataframe tbody tr th {\n",
       "        vertical-align: top;\n",
       "    }\n",
       "\n",
       "    .dataframe thead th {\n",
       "        text-align: right;\n",
       "    }\n",
       "</style>\n",
       "<table border=\"1\" class=\"dataframe\">\n",
       "  <thead>\n",
       "    <tr style=\"text-align: right;\">\n",
       "      <th></th>\n",
       "      <th>encounter_id</th>\n",
       "      <th>patient_nbr</th>\n",
       "      <th>race</th>\n",
       "      <th>gender</th>\n",
       "      <th>age</th>\n",
       "      <th>weight</th>\n",
       "      <th>admission_type_id</th>\n",
       "      <th>discharge_disposition_id</th>\n",
       "      <th>admission_source_id</th>\n",
       "      <th>time_in_hospital</th>\n",
       "      <th>...</th>\n",
       "      <th>citoglipton</th>\n",
       "      <th>insulin</th>\n",
       "      <th>glyburide-metformin</th>\n",
       "      <th>glipizide-metformin</th>\n",
       "      <th>glimepiride-pioglitazone</th>\n",
       "      <th>metformin-rosiglitazone</th>\n",
       "      <th>metformin-pioglitazone</th>\n",
       "      <th>change</th>\n",
       "      <th>diabetesMed</th>\n",
       "      <th>readmitted</th>\n",
       "    </tr>\n",
       "  </thead>\n",
       "  <tbody>\n",
       "    <tr>\n",
       "      <th>0</th>\n",
       "      <td>2278392</td>\n",
       "      <td>8222157</td>\n",
       "      <td>Caucasian</td>\n",
       "      <td>Female</td>\n",
       "      <td>[0-10)</td>\n",
       "      <td>?</td>\n",
       "      <td>6</td>\n",
       "      <td>25</td>\n",
       "      <td>1</td>\n",
       "      <td>1</td>\n",
       "      <td>...</td>\n",
       "      <td>No</td>\n",
       "      <td>No</td>\n",
       "      <td>No</td>\n",
       "      <td>No</td>\n",
       "      <td>No</td>\n",
       "      <td>No</td>\n",
       "      <td>No</td>\n",
       "      <td>No</td>\n",
       "      <td>No</td>\n",
       "      <td>NO</td>\n",
       "    </tr>\n",
       "    <tr>\n",
       "      <th>1</th>\n",
       "      <td>149190</td>\n",
       "      <td>55629189</td>\n",
       "      <td>Caucasian</td>\n",
       "      <td>Female</td>\n",
       "      <td>[10-20)</td>\n",
       "      <td>?</td>\n",
       "      <td>1</td>\n",
       "      <td>1</td>\n",
       "      <td>7</td>\n",
       "      <td>3</td>\n",
       "      <td>...</td>\n",
       "      <td>No</td>\n",
       "      <td>Up</td>\n",
       "      <td>No</td>\n",
       "      <td>No</td>\n",
       "      <td>No</td>\n",
       "      <td>No</td>\n",
       "      <td>No</td>\n",
       "      <td>Ch</td>\n",
       "      <td>Yes</td>\n",
       "      <td>&gt;30</td>\n",
       "    </tr>\n",
       "    <tr>\n",
       "      <th>2</th>\n",
       "      <td>64410</td>\n",
       "      <td>86047875</td>\n",
       "      <td>AfricanAmerican</td>\n",
       "      <td>Female</td>\n",
       "      <td>[20-30)</td>\n",
       "      <td>?</td>\n",
       "      <td>1</td>\n",
       "      <td>1</td>\n",
       "      <td>7</td>\n",
       "      <td>2</td>\n",
       "      <td>...</td>\n",
       "      <td>No</td>\n",
       "      <td>No</td>\n",
       "      <td>No</td>\n",
       "      <td>No</td>\n",
       "      <td>No</td>\n",
       "      <td>No</td>\n",
       "      <td>No</td>\n",
       "      <td>No</td>\n",
       "      <td>Yes</td>\n",
       "      <td>NO</td>\n",
       "    </tr>\n",
       "    <tr>\n",
       "      <th>3</th>\n",
       "      <td>500364</td>\n",
       "      <td>82442376</td>\n",
       "      <td>Caucasian</td>\n",
       "      <td>Male</td>\n",
       "      <td>[30-40)</td>\n",
       "      <td>?</td>\n",
       "      <td>1</td>\n",
       "      <td>1</td>\n",
       "      <td>7</td>\n",
       "      <td>2</td>\n",
       "      <td>...</td>\n",
       "      <td>No</td>\n",
       "      <td>Up</td>\n",
       "      <td>No</td>\n",
       "      <td>No</td>\n",
       "      <td>No</td>\n",
       "      <td>No</td>\n",
       "      <td>No</td>\n",
       "      <td>Ch</td>\n",
       "      <td>Yes</td>\n",
       "      <td>NO</td>\n",
       "    </tr>\n",
       "    <tr>\n",
       "      <th>4</th>\n",
       "      <td>16680</td>\n",
       "      <td>42519267</td>\n",
       "      <td>Caucasian</td>\n",
       "      <td>Male</td>\n",
       "      <td>[40-50)</td>\n",
       "      <td>?</td>\n",
       "      <td>1</td>\n",
       "      <td>1</td>\n",
       "      <td>7</td>\n",
       "      <td>1</td>\n",
       "      <td>...</td>\n",
       "      <td>No</td>\n",
       "      <td>Steady</td>\n",
       "      <td>No</td>\n",
       "      <td>No</td>\n",
       "      <td>No</td>\n",
       "      <td>No</td>\n",
       "      <td>No</td>\n",
       "      <td>Ch</td>\n",
       "      <td>Yes</td>\n",
       "      <td>NO</td>\n",
       "    </tr>\n",
       "  </tbody>\n",
       "</table>\n",
       "<p>5 rows × 50 columns</p>\n",
       "</div>"
      ],
      "text/plain": [
       "   encounter_id  patient_nbr             race  gender      age weight  \\\n",
       "0       2278392      8222157        Caucasian  Female   [0-10)      ?   \n",
       "1        149190     55629189        Caucasian  Female  [10-20)      ?   \n",
       "2         64410     86047875  AfricanAmerican  Female  [20-30)      ?   \n",
       "3        500364     82442376        Caucasian    Male  [30-40)      ?   \n",
       "4         16680     42519267        Caucasian    Male  [40-50)      ?   \n",
       "\n",
       "   admission_type_id  discharge_disposition_id  admission_source_id  \\\n",
       "0                  6                        25                    1   \n",
       "1                  1                         1                    7   \n",
       "2                  1                         1                    7   \n",
       "3                  1                         1                    7   \n",
       "4                  1                         1                    7   \n",
       "\n",
       "   time_in_hospital  ... citoglipton insulin  glyburide-metformin  \\\n",
       "0                 1  ...          No      No                   No   \n",
       "1                 3  ...          No      Up                   No   \n",
       "2                 2  ...          No      No                   No   \n",
       "3                 2  ...          No      Up                   No   \n",
       "4                 1  ...          No  Steady                   No   \n",
       "\n",
       "   glipizide-metformin  glimepiride-pioglitazone  metformin-rosiglitazone  \\\n",
       "0                   No                        No                       No   \n",
       "1                   No                        No                       No   \n",
       "2                   No                        No                       No   \n",
       "3                   No                        No                       No   \n",
       "4                   No                        No                       No   \n",
       "\n",
       "   metformin-pioglitazone  change diabetesMed readmitted  \n",
       "0                      No      No          No         NO  \n",
       "1                      No      Ch         Yes        >30  \n",
       "2                      No      No         Yes         NO  \n",
       "3                      No      Ch         Yes         NO  \n",
       "4                      No      Ch         Yes         NO  \n",
       "\n",
       "[5 rows x 50 columns]"
      ]
     },
     "execution_count": 4,
     "metadata": {},
     "output_type": "execute_result"
    }
   ],
   "source": [
    "df.head()"
   ]
  },
  {
   "cell_type": "code",
   "execution_count": 5,
   "metadata": {},
   "outputs": [
    {
     "name": "stdout",
     "output_type": "stream",
     "text": [
      "<class 'pandas.core.frame.DataFrame'>\n",
      "RangeIndex: 101766 entries, 0 to 101765\n",
      "Data columns (total 50 columns):\n",
      " #   Column                    Non-Null Count   Dtype \n",
      "---  ------                    --------------   ----- \n",
      " 0   encounter_id              101766 non-null  int64 \n",
      " 1   patient_nbr               101766 non-null  int64 \n",
      " 2   race                      101766 non-null  object\n",
      " 3   gender                    101766 non-null  object\n",
      " 4   age                       101766 non-null  object\n",
      " 5   weight                    101766 non-null  object\n",
      " 6   admission_type_id         101766 non-null  int64 \n",
      " 7   discharge_disposition_id  101766 non-null  int64 \n",
      " 8   admission_source_id       101766 non-null  int64 \n",
      " 9   time_in_hospital          101766 non-null  int64 \n",
      " 10  payer_code                101766 non-null  object\n",
      " 11  medical_specialty         101766 non-null  object\n",
      " 12  num_lab_procedures        101766 non-null  int64 \n",
      " 13  num_procedures            101766 non-null  int64 \n",
      " 14  num_medications           101766 non-null  int64 \n",
      " 15  number_outpatient         101766 non-null  int64 \n",
      " 16  number_emergency          101766 non-null  int64 \n",
      " 17  number_inpatient          101766 non-null  int64 \n",
      " 18  diag_1                    101766 non-null  object\n",
      " 19  diag_2                    101766 non-null  object\n",
      " 20  diag_3                    101766 non-null  object\n",
      " 21  number_diagnoses          101766 non-null  int64 \n",
      " 22  max_glu_serum             101766 non-null  object\n",
      " 23  A1Cresult                 101766 non-null  object\n",
      " 24  metformin                 101766 non-null  object\n",
      " 25  repaglinide               101766 non-null  object\n",
      " 26  nateglinide               101766 non-null  object\n",
      " 27  chlorpropamide            101766 non-null  object\n",
      " 28  glimepiride               101766 non-null  object\n",
      " 29  acetohexamide             101766 non-null  object\n",
      " 30  glipizide                 101766 non-null  object\n",
      " 31  glyburide                 101766 non-null  object\n",
      " 32  tolbutamide               101766 non-null  object\n",
      " 33  pioglitazone              101766 non-null  object\n",
      " 34  rosiglitazone             101766 non-null  object\n",
      " 35  acarbose                  101766 non-null  object\n",
      " 36  miglitol                  101766 non-null  object\n",
      " 37  troglitazone              101766 non-null  object\n",
      " 38  tolazamide                101766 non-null  object\n",
      " 39  examide                   101766 non-null  object\n",
      " 40  citoglipton               101766 non-null  object\n",
      " 41  insulin                   101766 non-null  object\n",
      " 42  glyburide-metformin       101766 non-null  object\n",
      " 43  glipizide-metformin       101766 non-null  object\n",
      " 44  glimepiride-pioglitazone  101766 non-null  object\n",
      " 45  metformin-rosiglitazone   101766 non-null  object\n",
      " 46  metformin-pioglitazone    101766 non-null  object\n",
      " 47  change                    101766 non-null  object\n",
      " 48  diabetesMed               101766 non-null  object\n",
      " 49  readmitted                101766 non-null  object\n",
      "dtypes: int64(13), object(37)\n",
      "memory usage: 38.8+ MB\n"
     ]
    }
   ],
   "source": [
    "df.info()"
   ]
  },
  {
   "cell_type": "code",
   "execution_count": 6,
   "metadata": {},
   "outputs": [
    {
     "data": {
      "text/plain": [
       "encounter_id                 int64\n",
       "patient_nbr                  int64\n",
       "race                        object\n",
       "gender                      object\n",
       "age                         object\n",
       "weight                      object\n",
       "admission_type_id            int64\n",
       "discharge_disposition_id     int64\n",
       "admission_source_id          int64\n",
       "time_in_hospital             int64\n",
       "payer_code                  object\n",
       "medical_specialty           object\n",
       "num_lab_procedures           int64\n",
       "num_procedures               int64\n",
       "num_medications              int64\n",
       "number_outpatient            int64\n",
       "number_emergency             int64\n",
       "number_inpatient             int64\n",
       "diag_1                      object\n",
       "diag_2                      object\n",
       "diag_3                      object\n",
       "number_diagnoses             int64\n",
       "max_glu_serum               object\n",
       "A1Cresult                   object\n",
       "metformin                   object\n",
       "repaglinide                 object\n",
       "nateglinide                 object\n",
       "chlorpropamide              object\n",
       "glimepiride                 object\n",
       "acetohexamide               object\n",
       "glipizide                   object\n",
       "glyburide                   object\n",
       "tolbutamide                 object\n",
       "pioglitazone                object\n",
       "rosiglitazone               object\n",
       "acarbose                    object\n",
       "miglitol                    object\n",
       "troglitazone                object\n",
       "tolazamide                  object\n",
       "examide                     object\n",
       "citoglipton                 object\n",
       "insulin                     object\n",
       "glyburide-metformin         object\n",
       "glipizide-metformin         object\n",
       "glimepiride-pioglitazone    object\n",
       "metformin-rosiglitazone     object\n",
       "metformin-pioglitazone      object\n",
       "change                      object\n",
       "diabetesMed                 object\n",
       "readmitted                  object\n",
       "dtype: object"
      ]
     },
     "execution_count": 6,
     "metadata": {},
     "output_type": "execute_result"
    }
   ],
   "source": [
    "df.dtypes"
   ]
  },
  {
   "cell_type": "code",
   "execution_count": 7,
   "metadata": {},
   "outputs": [
    {
     "name": "stdout",
     "output_type": "stream",
     "text": [
      "No        101765\n",
      "Steady         1\n",
      "Name: acetohexamide, dtype: int64\n",
      "No        101763\n",
      "Steady         3\n",
      "Name: troglitazone, dtype: int64\n",
      "No    101766\n",
      "Name: examide, dtype: int64\n",
      "No    101766\n",
      "Name: citoglipton, dtype: int64\n",
      "No        101753\n",
      "Steady        13\n",
      "Name: glipizide-metformin, dtype: int64\n",
      "No        101765\n",
      "Steady         1\n",
      "Name: glimepiride-pioglitazone, dtype: int64\n",
      "No        101764\n",
      "Steady         2\n",
      "Name: metformin-rosiglitazone, dtype: int64\n",
      "No        101765\n",
      "Steady         1\n",
      "Name: metformin-pioglitazone, dtype: int64\n"
     ]
    }
   ],
   "source": [
    "for i in df.columns:\n",
    "    if np.array(df[i].value_counts())[0]>101750:\n",
    "        print(df[i].value_counts())\n"
   ]
  },
  {
   "cell_type": "code",
   "execution_count": 8,
   "metadata": {},
   "outputs": [
    {
     "data": {
      "text/plain": [
       "88785891     40\n",
       "43140906     28\n",
       "1660293      23\n",
       "88227540     23\n",
       "23199021     23\n",
       "             ..\n",
       "11005362      1\n",
       "98252496      1\n",
       "1019673       1\n",
       "13396320      1\n",
       "175429310     1\n",
       "Name: patient_nbr, Length: 71518, dtype: int64"
      ]
     },
     "execution_count": 8,
     "metadata": {},
     "output_type": "execute_result"
    }
   ],
   "source": [
    "df['patient_nbr'].value_counts()"
   ]
  },
  {
   "cell_type": "code",
   "execution_count": 9,
   "metadata": {},
   "outputs": [
    {
     "data": {
      "text/plain": [
       "2278392      1\n",
       "190792044    1\n",
       "190790070    1\n",
       "190789722    1\n",
       "190786806    1\n",
       "            ..\n",
       "106665324    1\n",
       "106657776    1\n",
       "106644876    1\n",
       "106644474    1\n",
       "443867222    1\n",
       "Name: encounter_id, Length: 101766, dtype: int64"
      ]
     },
     "execution_count": 9,
     "metadata": {},
     "output_type": "execute_result"
    }
   ],
   "source": [
    "df['encounter_id'].value_counts()"
   ]
  },
  {
   "cell_type": "code",
   "execution_count": 10,
   "metadata": {},
   "outputs": [],
   "source": [
    "df.drop(['glimepiride-pioglitazone','metformin-pioglitazone','patient_nbr','encounter_id','acetohexamide','troglitazone','examide','citoglipton'],axis=1,inplace=True)"
   ]
  },
  {
   "cell_type": "code",
   "execution_count": 11,
   "metadata": {},
   "outputs": [],
   "source": [
    "df.replace('?',np.nan,inplace=True)"
   ]
  },
  {
   "cell_type": "code",
   "execution_count": 12,
   "metadata": {},
   "outputs": [
    {
     "name": "stdout",
     "output_type": "stream",
     "text": [
      "race 2.2335554114340743\n",
      "weight 96.85847925633315\n",
      "payer_code 39.5574160328597\n",
      "medical_specialty 49.08220820313268\n",
      "diag_1 0.020635575732562937\n",
      "diag_2 0.3517874339170253\n",
      "diag_3 1.398305917497003\n"
     ]
    }
   ],
   "source": [
    "for i in df.columns:\n",
    "    if df[i].isna().sum()>0:\n",
    "        print(i,df[i].isna().sum()*100/len(df))"
   ]
  },
  {
   "cell_type": "code",
   "execution_count": 13,
   "metadata": {},
   "outputs": [],
   "source": [
    "df.drop(['payer_code','medical_specialty','weight'],axis=1,inplace=True)"
   ]
  },
  {
   "cell_type": "code",
   "execution_count": 14,
   "metadata": {},
   "outputs": [],
   "source": [
    "df.dropna(inplace=True)"
   ]
  },
  {
   "cell_type": "code",
   "execution_count": 15,
   "metadata": {},
   "outputs": [
    {
     "data": {
      "text/plain": [
       "0"
      ]
     },
     "execution_count": 15,
     "metadata": {},
     "output_type": "execute_result"
    }
   ],
   "source": [
    "df['race'].isna().sum()"
   ]
  },
  {
   "cell_type": "code",
   "execution_count": 16,
   "metadata": {},
   "outputs": [],
   "source": [
    "df=df[df.gender!='Unknown/Invalid']"
   ]
  },
  {
   "cell_type": "code",
   "execution_count": 17,
   "metadata": {},
   "outputs": [
    {
     "data": {
      "text/plain": [
       "Female    52833\n",
       "Male      45219\n",
       "Name: gender, dtype: int64"
      ]
     },
     "execution_count": 17,
     "metadata": {},
     "output_type": "execute_result"
    }
   ],
   "source": [
    "df['gender'].value_counts()"
   ]
  },
  {
   "cell_type": "code",
   "execution_count": 17,
   "metadata": {},
   "outputs": [
    {
     "data": {
      "text/plain": [
       "NO     52337\n",
       ">30    34649\n",
       "<30    11066\n",
       "Name: readmitted, dtype: int64"
      ]
     },
     "execution_count": 17,
     "metadata": {},
     "output_type": "execute_result"
    }
   ],
   "source": [
    "df.readmitted.value_counts()"
   ]
  },
  {
   "cell_type": "code",
   "execution_count": 18,
   "metadata": {},
   "outputs": [],
   "source": [
    "df.readmitted = [0 if each=='NO' else 1 for each in df.readmitted]"
   ]
  },
  {
   "cell_type": "code",
   "execution_count": 25,
   "metadata": {},
   "outputs": [],
   "source": [
    "Transformer=LabelEncoder()\n",
    "for col in df.columns:\n",
    "    Transformer.fit(df[col]) \n",
    "    df[col]=Transformer.fit_transform(df[col])"
   ]
  },
  {
   "cell_type": "code",
   "execution_count": 26,
   "metadata": {},
   "outputs": [
    {
     "data": {
      "text/html": [
       "<div>\n",
       "<style scoped>\n",
       "    .dataframe tbody tr th:only-of-type {\n",
       "        vertical-align: middle;\n",
       "    }\n",
       "\n",
       "    .dataframe tbody tr th {\n",
       "        vertical-align: top;\n",
       "    }\n",
       "\n",
       "    .dataframe thead th {\n",
       "        text-align: right;\n",
       "    }\n",
       "</style>\n",
       "<table border=\"1\" class=\"dataframe\">\n",
       "  <thead>\n",
       "    <tr style=\"text-align: right;\">\n",
       "      <th></th>\n",
       "      <th>race</th>\n",
       "      <th>gender</th>\n",
       "      <th>age</th>\n",
       "      <th>admission_type_id</th>\n",
       "      <th>discharge_disposition_id</th>\n",
       "      <th>admission_source_id</th>\n",
       "      <th>time_in_hospital</th>\n",
       "      <th>num_lab_procedures</th>\n",
       "      <th>num_procedures</th>\n",
       "      <th>num_medications</th>\n",
       "      <th>...</th>\n",
       "      <th>acarbose</th>\n",
       "      <th>miglitol</th>\n",
       "      <th>tolazamide</th>\n",
       "      <th>insulin</th>\n",
       "      <th>glyburide-metformin</th>\n",
       "      <th>glipizide-metformin</th>\n",
       "      <th>metformin-rosiglitazone</th>\n",
       "      <th>change</th>\n",
       "      <th>diabetesMed</th>\n",
       "      <th>readmitted</th>\n",
       "    </tr>\n",
       "  </thead>\n",
       "  <tbody>\n",
       "  </tbody>\n",
       "</table>\n",
       "<p>0 rows × 39 columns</p>\n",
       "</div>"
      ],
      "text/plain": [
       "Empty DataFrame\n",
       "Columns: [race, gender, age, admission_type_id, discharge_disposition_id, admission_source_id, time_in_hospital, num_lab_procedures, num_procedures, num_medications, number_outpatient, number_emergency, number_inpatient, diag_1, diag_2, diag_3, number_diagnoses, max_glu_serum, A1Cresult, metformin, repaglinide, nateglinide, chlorpropamide, glimepiride, glipizide, glyburide, tolbutamide, pioglitazone, rosiglitazone, acarbose, miglitol, tolazamide, insulin, glyburide-metformin, glipizide-metformin, metformin-rosiglitazone, change, diabetesMed, readmitted]\n",
       "Index: []\n",
       "\n",
       "[0 rows x 39 columns]"
      ]
     },
     "execution_count": 26,
     "metadata": {},
     "output_type": "execute_result"
    }
   ],
   "source": [
    "df[~df.applymap(np.isreal).all(1)]"
   ]
  },
  {
   "cell_type": "code",
   "execution_count": 21,
   "metadata": {},
   "outputs": [
    {
     "data": {
      "text/plain": [
       "race                        int32\n",
       "gender                      int32\n",
       "age                         int32\n",
       "admission_type_id           int64\n",
       "discharge_disposition_id    int64\n",
       "admission_source_id         int64\n",
       "time_in_hospital            int64\n",
       "num_lab_procedures          int64\n",
       "num_procedures              int64\n",
       "num_medications             int64\n",
       "number_outpatient           int64\n",
       "number_emergency            int64\n",
       "number_inpatient            int64\n",
       "diag_1                      int32\n",
       "diag_2                      int32\n",
       "diag_3                      int32\n",
       "number_diagnoses            int64\n",
       "max_glu_serum               int32\n",
       "A1Cresult                   int32\n",
       "metformin                   int32\n",
       "repaglinide                 int32\n",
       "nateglinide                 int32\n",
       "chlorpropamide              int32\n",
       "glimepiride                 int32\n",
       "glipizide                   int32\n",
       "glyburide                   int32\n",
       "tolbutamide                 int32\n",
       "pioglitazone                int32\n",
       "rosiglitazone               int32\n",
       "acarbose                    int32\n",
       "miglitol                    int32\n",
       "tolazamide                  int32\n",
       "insulin                     int32\n",
       "glyburide-metformin         int32\n",
       "glipizide-metformin         int32\n",
       "metformin-rosiglitazone     int32\n",
       "change                      int32\n",
       "diabetesMed                 int32\n",
       "readmitted                  int64\n",
       "dtype: object"
      ]
     },
     "execution_count": 21,
     "metadata": {},
     "output_type": "execute_result"
    }
   ],
   "source": [
    "df.dtypes"
   ]
  },
  {
   "cell_type": "code",
   "execution_count": 37,
   "metadata": {},
   "outputs": [
    {
     "data": {
      "image/png": "[encoded data removed]",
      "text/plain": [
       "<Figure size 1152x576 with 2 Axes>"
      ]
     },
     "metadata": {
      "needs_background": "light"
     },
     "output_type": "display_data"
    }
   ],
   "source": [
    "plt.figure(figsize=(16,8))\n",
    "corr_matrix = df.corr()\n",
    "snb.heatmap(corr_matrix)\n",
    "plt.show()"
   ]
  },
  {
   "cell_type": "code",
   "execution_count": 38,
   "metadata": {},
   "outputs": [
    {
     "data": {
      "text/plain": [
       "0    52337\n",
       "1    45715\n",
       "Name: readmitted, dtype: int64"
      ]
     },
     "execution_count": 38,
     "metadata": {},
     "output_type": "execute_result"
    }
   ],
   "source": [
    "df.readmitted.value_counts()"
   ]
  },
  {
   "cell_type": "code",
   "execution_count": 27,
   "metadata": {},
   "outputs": [],
   "source": [
    "from sklearn.model_selection import train_test_split\n",
    "from sklearn.model_selection import GridSearchCV\n",
    "\n",
    "from sklearn.linear_model import LogisticRegression\n",
    "from sklearn.ensemble import RandomForestClassifier\n",
    "from sklearn.tree import DecisionTreeClassifier\n",
    "\n",
    "import matplotlib.pyplot as plt\n",
    "from sklearn import model_selection\n",
    "\n",
    "from sklearn.neighbors import KNeighborsClassifier\n",
    "from sklearn.discriminant_analysis import LinearDiscriminantAnalysis\n",
    "from sklearn.naive_bayes import GaussianNB\n",
    "from sklearn.discriminant_analysis import QuadraticDiscriminantAnalysis\n",
    "from xgboost import XGBClassifier\n",
    "from sklearn.svm import SVC\n",
    "from sklearn.ensemble import AdaBoostClassifier\n",
    "from sklearn.neural_network import MLPClassifier\n",
    "from sklearn.model_selection import StratifiedKFold\n",
    "import sklearn.metrics \n",
    "import seaborn as sns\n",
    "\n",
    "from sklearn.metrics import roc_auc_score, accuracy_score, precision_score, recall_score,f1_score\n",
    "from sklearn.metrics import confusion_matrix as cm"
   ]
  },
  {
   "cell_type": "code",
   "execution_count": 28,
   "metadata": {},
   "outputs": [
    {
     "name": "stdout",
     "output_type": "stream",
     "text": [
      "(65694, 38) (32358, 38) (65694,) (32358,)\n"
     ]
    }
   ],
   "source": [
    "from sklearn.model_selection import train_test_split\n",
    "\n",
    "X, y = df.loc[:,df.columns!='readmitted'],df['readmitted']\n",
    "X_train, X_test, y_train, y_test = train_test_split(X, y, test_size=0.33)\n",
    "print(X_train.shape, X_test.shape, y_train.shape, y_test.shape)"
   ]
  },
  {
   "cell_type": "code",
   "execution_count": 29,
   "metadata": {},
   "outputs": [],
   "source": [
    "from sklearn.preprocessing import StandardScaler\n",
    "\n",
    "scaler = StandardScaler()\n",
    "X_train = scaler.fit_transform(X_train)\n",
    "X_test = scaler.transform(X_test)"
   ]
  },
  {
   "cell_type": "code",
   "execution_count": 27,
   "metadata": {},
   "outputs": [],
   "source": [
    "thresh = 0.5"
   ]
  },
  {
   "cell_type": "code",
   "execution_count": 34,
   "metadata": {},
   "outputs": [],
   "source": [
    "def calc_specificity(y_actual, y_pred, thresh):\n",
    "    return sum((y_pred < thresh) & (y_actual == 0)) /sum(y_actual ==0)\n",
    "\n",
    "def print_report(y_actual, y_pred, thresh):\n",
    "    \n",
    "    auc = roc_auc_score(y_actual, y_pred)\n",
    "    accuracy = accuracy_score(y_actual, (y_pred > thresh))\n",
    "    recall = recall_score(y_actual, (y_pred > thresh))\n",
    "    precision = precision_score(y_actual, (y_pred > thresh))\n",
    "    fscore = f1_score(y_actual,(y_pred > thresh) )\n",
    "    specificity = calc_specificity(y_actual, y_pred, thresh)\n",
    "    print('AUC:%.3f'%auc)\n",
    "    print('accuracy:%.3f'%accuracy)\n",
    "    print('recall:%.3f'%recall)\n",
    "    print('precision:%.3f'%precision)\n",
    "    print('fscore:%.3f'%fscore)\n",
    "    print('specificity:%.3f'%specificity)\n",
    "    print(' ')\n",
    "    return accuracy, recall, precision,fscore, specificity\n",
    "\n",
    "def roc_auc(pred, act, plot=True, label = \"curve\"):\n",
    "    prob = pred/pred.max() #normalize\n",
    "    fpr, tpr, threshold = sklearn.metrics.roc_curve(act, prob, drop_intermediate=True)    \n",
    "    auc = sklearn.metrics.auc(fpr, tpr)\n",
    "\n",
    "    if plot:\n",
    "        plt.scatter(x=fpr, y=tpr, color='navy')\n",
    "        rcolor = tuple(np.random.rand(3,1)[:,0])\n",
    "        plt.plot(fpr, tpr, c=rcolor, lw=2, label=label + ' (AUC = %0.3f)' % auc)\n",
    "        plt.plot([0, 1], [0, 1], color='navy', lw=2, linestyle='--')\n",
    "        plt.xlim([0.0, 1.0])\n",
    "        plt.ylim([0.0, 1.05])\n",
    "        plt.xlabel('False Positive Rate')\n",
    "        plt.ylabel('True Positive Rate')\n",
    "        plt.title('ROC Curve')\n",
    "        plt.legend(loc=\"lower right\")\n",
    "        plt.show()\n",
    "\n",
    "    return auc"
   ]
  },
  {
   "cell_type": "code",
   "execution_count": 39,
   "metadata": {},
   "outputs": [
    {
     "name": "stdout",
     "output_type": "stream",
     "text": [
      "LR:0.614683\n",
      "LDA:0.611304\n",
      "KNN:0.572153\n",
      "CART:0.561086\n",
      "NB:0.583022\n",
      "RFC:0.631382\n",
      "XGB:0.641474\n",
      "ADA:0.632600\n",
      "MLPC:0.535818\n"
     ]
    }
   ],
   "source": [
    "scoring = 'accuracy'\n",
    "models = []\n",
    "models.append(('LR', LogisticRegression()))\n",
    "models.append(('LDA', LinearDiscriminantAnalysis()))\n",
    "models.append(('KNN', KNeighborsClassifier()))\n",
    "models.append(('CART', DecisionTreeClassifier()))\n",
    "models.append(('NB', GaussianNB()))\n",
    "models.append(('RFC', RandomForestClassifier()))\n",
    "models.append(('XGB', XGBClassifier()))\n",
    "models.append(('ADA', AdaBoostClassifier()))\n",
    "models.append(('MLPC', MLPClassifier(solver='lbfgs', alpha=1e5,hidden_layer_sizes=(5, 5), random_state=1)))\n",
    "results=[]\n",
    "names=[]\n",
    "for name, model in models:\n",
    "    kfold=StratifiedKFold(n_splits=10,shuffle=True,random_state=42)\n",
    "    cv_results=model_selection.cross_val_score(model,X_train,y_train,cv=kfold,scoring=\"accuracy\")\n",
    "    results.append(cv_results)\n",
    "    names.append(name)\n",
    "    msg=\"%s:%f\" % (name,cv_results.mean())\n",
    "    print(msg)"
   ]
  },
  {
   "cell_type": "code",
   "execution_count": 28,
   "metadata": {},
   "outputs": [
    {
     "ename": "NameError",
     "evalue": "name 'results' is not defined",
     "output_type": "error",
     "traceback": [
      "\u001b[1;31m---------------------------------------------------------------------------\u001b[0m",
      "\u001b[1;31mNameError\u001b[0m                                 Traceback (most recent call last)",
      "\u001b[1;32mc:\\Users\\nicol\\OneDrive - De Vinci\\Documents\\ESILV\\A4\\Python\\Python-Diabete\\Final_project.ipynb Cellule 30\u001b[0m in \u001b[0;36m<cell line: 4>\u001b[1;34m()\u001b[0m\n\u001b[0;32m      <a href='vscode-notebook-cell:/c%3A/Users/nicol/OneDrive%20-%20De%20Vinci/Documents/ESILV/A4/Python/Python-Diabete/Final_project.ipynb#X42sZmlsZQ%3D%3D?line=1'>2</a>\u001b[0m fig\u001b[39m.\u001b[39msuptitle(\u001b[39m'\u001b[39m\u001b[39mAlgorithm Comparison\u001b[39m\u001b[39m'\u001b[39m)\n\u001b[0;32m      <a href='vscode-notebook-cell:/c%3A/Users/nicol/OneDrive%20-%20De%20Vinci/Documents/ESILV/A4/Python/Python-Diabete/Final_project.ipynb#X42sZmlsZQ%3D%3D?line=2'>3</a>\u001b[0m ax \u001b[39m=\u001b[39m fig\u001b[39m.\u001b[39madd_subplot(\u001b[39m111\u001b[39m)\n\u001b[1;32m----> <a href='vscode-notebook-cell:/c%3A/Users/nicol/OneDrive%20-%20De%20Vinci/Documents/ESILV/A4/Python/Python-Diabete/Final_project.ipynb#X42sZmlsZQ%3D%3D?line=3'>4</a>\u001b[0m plt\u001b[39m.\u001b[39mboxplot(results)\n\u001b[0;32m      <a href='vscode-notebook-cell:/c%3A/Users/nicol/OneDrive%20-%20De%20Vinci/Documents/ESILV/A4/Python/Python-Diabete/Final_project.ipynb#X42sZmlsZQ%3D%3D?line=4'>5</a>\u001b[0m ax\u001b[39m.\u001b[39mset_xticklabels(names)\n\u001b[0;32m      <a href='vscode-notebook-cell:/c%3A/Users/nicol/OneDrive%20-%20De%20Vinci/Documents/ESILV/A4/Python/Python-Diabete/Final_project.ipynb#X42sZmlsZQ%3D%3D?line=5'>6</a>\u001b[0m plt\u001b[39m.\u001b[39mshow()\n",
      "\u001b[1;31mNameError\u001b[0m: name 'results' is not defined"
     ]
    },
    {
     "data": {
      "image/png": "[encoded data removed]",
      "text/plain": [
       "<Figure size 432x288 with 1 Axes>"
      ]
     },
     "metadata": {
      "needs_background": "light"
     },
     "output_type": "display_data"
    }
   ],
   "source": [
    "fig = plt.figure()\n",
    "fig.suptitle('Algorithm Comparison')\n",
    "ax = fig.add_subplot(111)\n",
    "plt.boxplot(results)\n",
    "ax.set_xticklabels(names)\n",
    "plt.show()"
   ]
  },
  {
   "cell_type": "code",
   "execution_count": 31,
   "metadata": {},
   "outputs": [
    {
     "name": "stdout",
     "output_type": "stream",
     "text": [
      "Fitting 5 folds for each of 50 candidates, totalling 250 fits\n"
     ]
    },
    {
     "name": "stderr",
     "output_type": "stream",
     "text": [
      "[Parallel(n_jobs=10)]: Using backend LokyBackend with 10 concurrent workers.\n",
      "[Parallel(n_jobs=10)]: Done  12 tasks      | elapsed:   13.1s\n",
      "[Parallel(n_jobs=10)]: Done 108 tasks      | elapsed:   23.3s\n",
      "[Parallel(n_jobs=10)]: Done 250 out of 250 | elapsed:   39.8s finished\n"
     ]
    },
    {
     "data": {
      "text/plain": [
       "GridSearchCV(cv=5,\n",
       "             estimator=LogisticRegression(C=1, penalty='l1',\n",
       "                                          solver='liblinear'),\n",
       "             n_jobs=10,\n",
       "             param_grid={'C': [0.0031622776601683794, 0.003981071705534973,\n",
       "                               0.005011872336272725, 0.006309573444801936,\n",
       "                               0.00794328234724282, 0.01000000000000001,\n",
       "                               0.012589254117941687, 0.01584893192461116,\n",
       "                               0.01995262314968883, 0.025118864315095846,\n",
       "                               0.03162277660168386, 0.0398107170...\n",
       "                               0.07943282347242837, 0.10000000000000031,\n",
       "                               0.12589254117941714, 0.1584893192461119,\n",
       "                               0.1995262314968887, 0.251188643150959,\n",
       "                               0.3162277660168392, 0.398107170553499,\n",
       "                               0.5011872336272746, 0.6309573444801962,\n",
       "                               0.7943282347242854, 1.000000000000005,\n",
       "                               1.258925411794174, 1.5848931924611223,\n",
       "                               1.995262314968891, 2.5118864315095952, ...],\n",
       "                         'penalty': ['l1']},\n",
       "             scoring='roc_auc', verbose=3)"
      ]
     },
     "execution_count": 31,
     "metadata": {},
     "output_type": "execute_result"
    }
   ],
   "source": [
    "C_params = [10**x for x in np.arange(-2.5,2.5,0.1)]\n",
    "param_grid = {\n",
    "        'penalty':['l1'], #lasso only\n",
    "        'C':C_params\n",
    "}\n",
    "\n",
    "\n",
    "clf = GridSearchCV(LogisticRegression(C=1, penalty='l1', solver='liblinear'), param_grid, cv=5, scoring='roc_auc', verbose=3, n_jobs=10)\n",
    "clf.fit(X_train, y_train)"
   ]
  },
  {
   "cell_type": "code",
   "execution_count": 32,
   "metadata": {},
   "outputs": [
    {
     "data": {
      "text/plain": [
       "number_inpatient            0.461624\n",
       "number_emergency            0.177309\n",
       "number_diagnoses            0.141302\n",
       "diabetesMed                 0.097435\n",
       "number_outpatient           0.097107\n",
       "time_in_hospital            0.042556\n",
       "age                         0.034192\n",
       "admission_type_id           0.029279\n",
       "rosiglitazone               0.021217\n",
       "admission_source_id         0.017795\n",
       "pioglitazone                0.011879\n",
       "acarbose                    0.011837\n",
       "glipizide                   0.011538\n",
       "repaglinide                 0.010634\n",
       "diag_3                      0.009533\n",
       "num_lab_procedures          0.009035\n",
       "miglitol                    0.006896\n",
       "glipizide-metformin         0.005666\n",
       "num_medications             0.004470\n",
       "nateglinide                 0.001470\n",
       "chlorpropamide              0.000000\n",
       "glyburide-metformin         0.000000\n",
       "max_glu_serum               0.000000\n",
       "tolbutamide                 0.000000\n",
       "metformin-rosiglitazone     0.000000\n",
       "glyburide                   0.000000\n",
       "race                       -0.001140\n",
       "glimepiride                -0.002072\n",
       "tolazamide                 -0.003618\n",
       "diag_1                     -0.012781\n",
       "A1Cresult                  -0.014861\n",
       "change                     -0.016420\n",
       "gender                     -0.021135\n",
       "diag_2                     -0.022129\n",
       "insulin                    -0.029084\n",
       "metformin                  -0.036444\n",
       "discharge_disposition_id   -0.056548\n",
       "num_procedures             -0.064368\n",
       "dtype: float64"
      ]
     },
     "execution_count": 32,
     "metadata": {},
     "output_type": "execute_result"
    }
   ],
   "source": [
    "lr = clf.best_estimator_\n",
    "lr.fit(X_train,y_train)\n",
    "feat_imp = pd.Series(index=X.columns, data=lr.coef_[0])\n",
    "feat_imp.sort_values(ascending=False)"
   ]
  },
  {
   "cell_type": "code",
   "execution_count": 61,
   "metadata": {},
   "outputs": [
    {
     "name": "stdout",
     "output_type": "stream",
     "text": [
      "f1 score: 0.2554572931825815\n",
      "accuracy:0.6608536025699863\n"
     ]
    },
    {
     "data": {
      "image/png": "[encoded data removed]",
      "text/plain": [
       "<Figure size 432x288 with 1 Axes>"
      ]
     },
     "metadata": {
      "needs_background": "light"
     },
     "output_type": "display_data"
    },
    {
     "name": "stdout",
     "output_type": "stream",
     "text": [
      "roc auc:0.6453442380250024\n"
     ]
    }
   ],
   "source": [
    "y_pred = lr.predict_proba(X_test)[:,1]\n",
    "fpr, tpr, threshold = sklearn.metrics.roc_curve(y_test, y_pred, drop_intermediate=True)    \n",
    "df_res = pd.DataFrame(data={'fpr':fpr, 'tpr':tpr, 'threshold':threshold})\n",
    "df_res = df_res[['threshold','fpr','tpr']]\n",
    "sklearn.metrics.auc(fpr, tpr)\n",
    "t=y.value_counts()[1]/y.value_counts().sum()\n",
    "print('f1 score: '+str(sklearn.metrics.f1_score(y_test, y_pred>t)))\n",
    "print('accuracy:'+str(sklearn.metrics.accuracy_score(y_test, y_pred>t)))\n",
    "print('roc auc:'+str(roc_auc(y_pred, y_test)))"
   ]
  },
  {
   "cell_type": "code",
   "execution_count": 35,
   "metadata": {},
   "outputs": [
    {
     "name": "stdout",
     "output_type": "stream",
     "text": [
      "0.6165399592063786\n",
      "\n"
     ]
    },
    {
     "data": {
      "image/png": "[encoded data removed]",
      "text/plain": [
       "<Figure size 432x288 with 2 Axes>"
      ]
     },
     "metadata": {
      "needs_background": "light"
     },
     "output_type": "display_data"
    },
    {
     "name": "stdout",
     "output_type": "stream",
     "text": [
      "f1 score: 0.49454130682744013\n",
      "accuracy:0.6165399592063786\n"
     ]
    },
    {
     "data": {
      "image/png": "[encoded data removed]",
      "text/plain": [
       "<Figure size 432x288 with 1 Axes>"
      ]
     },
     "metadata": {
      "needs_background": "light"
     },
     "output_type": "display_data"
    },
    {
     "name": "stdout",
     "output_type": "stream",
     "text": [
      "roc auc:0.6043672705709435\n"
     ]
    }
   ],
   "source": [
    "y_pred=lr.predict(X_test)\n",
    "coef_df = pd.DataFrame(lr.coef_, columns = X.columns)\n",
    "coef_df['intercept'] = lr.intercept_\n",
    "coef_df\n",
    "model_score = lr.score(X_test, y_test)\n",
    "print(model_score)\n",
    "print()\n",
    "sns.heatmap(sklearn.metrics.confusion_matrix(y_test, y_pred),annot=True,\n",
    "            xticklabels=[\"Readmitted\", \"Not readmitted\"], \n",
    "            yticklabels=[\"Readmitted\", \"Not readmitted\"])\n",
    "plt.ylabel(\"Predicted\")\n",
    "plt.xlabel(\"Reality\")\n",
    "plt.title(\"Confusion matrix\")\n",
    "plt.show()\n",
    "t=y.value_counts()[1]/y.value_counts().sum()\n",
    "print('f1 score: '+str(sklearn.metrics.f1_score(y_test, y_pred>t)))\n",
    "print('accuracy:'+str(sklearn.metrics.accuracy_score(y_test, y_pred>t)))\n",
    "print('roc auc:'+str(roc_auc(y_pred, y_test)))"
   ]
  },
  {
   "cell_type": "code",
   "execution_count": 64,
   "metadata": {},
   "outputs": [],
   "source": [
    "param_grid = {\n",
    "    'bootstrap': [True],\n",
    "    'max_depth': [80, 90, 100, 110],\n",
    "    'max_features': [2, 3],\n",
    "    'min_samples_leaf': [3, 4, 5],\n",
    "    'min_samples_split': [8, 10, 12],\n",
    "    'n_estimators': [100, 200, 300, 1000]\n",
    "}\n",
    "rf = GridSearchCV(RandomForestClassifier(), param_grid, cv=5, scoring='roc_auc', verbose=0, n_jobs=10)\n",
    "rf.fit(X_train, y_train)"
   ]
  },
  {
   "cell_type": "code",
   "execution_count": null,
   "metadata": {},
   "outputs": [],
   "source": [
    "rf = clf.best_estimator_\n",
    "feat_imp = pd.Series(index=X_train.columns, data=rf.coef_[0])\n",
    "feat_imp.sort_values(ascending=False)"
   ]
  },
  {
   "cell_type": "code",
   "execution_count": null,
   "metadata": {},
   "outputs": [],
   "source": [
    "pred = rf.predict_proba(X_test)[:,1]\n",
    "fpr, tpr, threshold = sklearn.metrics.roc_curve(y_test, pred, drop_intermediate=True)    \n",
    "df_res = pd.DataFrame(data={'fpr':fpr, 'tpr':tpr, 'threshold':threshold})\n",
    "df_res = df_res[['threshold','fpr','tpr']]\n",
    "sklearn.metrics.auc(fpr, tpr)\n",
    "t=y.value_counts()[1]/y.value_counts().sum()\n",
    "sklearn.metrics.f1_score(y_test, pred>t)\n",
    "sklearn.metrics.accuracy_score(y_test, pred>t)\n",
    "\n",
    "roc_auc(pred, y_test)"
   ]
  },
  {
   "cell_type": "code",
   "execution_count": 36,
   "metadata": {},
   "outputs": [
    {
     "name": "stdout",
     "output_type": "stream",
     "text": [
      "0.6321466098028309\n",
      "\n"
     ]
    },
    {
     "data": {
      "image/png": "[encoded data removed]",
      "text/plain": [
       "<Figure size 432x288 with 2 Axes>"
      ]
     },
     "metadata": {
      "needs_background": "light"
     },
     "output_type": "display_data"
    },
    {
     "name": "stdout",
     "output_type": "stream",
     "text": [
      "f1 score: 0.5716958727645641\n",
      "accuracy:0.6321466098028309\n"
     ]
    },
    {
     "data": {
      "image/png": "[encoded data removed]",
      "text/plain": [
       "<Figure size 432x288 with 1 Axes>"
      ]
     },
     "metadata": {
      "needs_background": "light"
     },
     "output_type": "display_data"
    },
    {
     "name": "stdout",
     "output_type": "stream",
     "text": [
      "roc auc:0.625984144050391\n"
     ]
    }
   ],
   "source": [
    "rf=RandomForestClassifier()\n",
    "rf.fit(X_train,y_train)\n",
    "y_pred=rf.predict(X_test)\n",
    "model_score = rf.score(X_test, y_test)\n",
    "print(model_score)\n",
    "print()\n",
    "sns.heatmap(sklearn.metrics.confusion_matrix(y_test, y_pred),annot=True,\n",
    "            xticklabels=[\"Readmitted\", \"Not readmitted\"], \n",
    "            yticklabels=[\"Readmitted\", \"Not readmitted\"])\n",
    "plt.ylabel(\"Predicted\")\n",
    "plt.xlabel(\"Reality\")\n",
    "plt.title(\"Confusion matrix\")\n",
    "plt.show()\n",
    "t=y.value_counts()[1]/y.value_counts().sum()\n",
    "print('f1 score: '+str(sklearn.metrics.f1_score(y_test, y_pred>t)))\n",
    "print('accuracy:'+str(sklearn.metrics.accuracy_score(y_test, y_pred>t)))\n",
    "print('roc auc:'+str(roc_auc(y_pred, y_test)))"
   ]
  },
  {
   "cell_type": "code",
   "execution_count": null,
   "metadata": {},
   "outputs": [
    {
     "data": {
      "text/plain": [
       "LogisticRegression(C=0.015, penalty='l1', solver='liblinear')"
      ]
     },
     "execution_count": 195,
     "metadata": {},
     "output_type": "execute_result"
    }
   ],
   "source": [
    "from sklearn.linear_model import LogisticRegression\n",
    "lr2 = LogisticRegression(C=.015, penalty='l1',solver='liblinear')\n",
    "lr2.fit(X_train, y_train)"
   ]
  },
  {
   "cell_type": "code",
   "execution_count": null,
   "metadata": {},
   "outputs": [
    {
     "data": {
      "text/plain": [
       "0.1103972260466065"
      ]
     },
     "execution_count": 239,
     "metadata": {},
     "output_type": "execute_result"
    }
   ],
   "source": [
    "from sklearn.linear_model import LogisticRegression\n",
    "log_model = LogisticRegression(solver = \"liblinear\",C=.015, penalty='l1')\n",
    "log_model.fit(X_train,y_train)\n",
    "pred = log_model.predict_proba(X_test)[:,1]\n",
    "\n",
    "from sklearn.metrics import accuracy_score\n",
    "accuracy_score(y_test, pred>0.05)"
   ]
  },
  {
   "cell_type": "code",
   "execution_count": null,
   "metadata": {},
   "outputs": [
    {
     "name": "stdout",
     "output_type": "stream",
     "text": [
      "Random Forest\n",
      "Training:\n",
      "AUC:0.647\n",
      "accuracy:0.886\n",
      "recall:0.000\n",
      "precision:0.000\n",
      "fscore:0.000\n",
      "specificity:1.000\n",
      " \n"
     ]
    },
    {
     "name": "stderr",
     "output_type": "stream",
     "text": [
      "C:\\Users\\nicol\\AppData\\Local\\Packages\\PythonSoftwareFoundation.Python.3.9_qbz5n2kfra8p0\\LocalCache\\local-packages\\Python39\\site-packages\\sklearn\\metrics\\_classification.py:1221: UndefinedMetricWarning: Precision is ill-defined and being set to 0.0 due to no predicted samples. Use `zero_division` parameter to control this behavior.\n",
      "  _warn_prf(average, modifier, msg_start, len(result))\n"
     ]
    },
    {
     "ename": "ValueError",
     "evalue": "not enough values to unpack (expected 6, got 5)",
     "output_type": "error",
     "traceback": [
      "\u001b[1;31m---------------------------------------------------------------------------\u001b[0m",
      "\u001b[1;31mValueError\u001b[0m                                Traceback (most recent call last)",
      "\u001b[1;32mc:\\Users\\nicol\\OneDrive - De Vinci\\Documents\\ESILV\\A4\\Python\\Python-Diabete\\Final_project.ipynb Cellule 35\u001b[0m in \u001b[0;36m<cell line: 10>\u001b[1;34m()\u001b[0m\n\u001b[0;32m      <a href='vscode-notebook-cell:/c%3A/Users/nicol/OneDrive%20-%20De%20Vinci/Documents/ESILV/A4/Python/Python-Diabete/Final_project.ipynb#X36sZmlsZQ%3D%3D?line=7'>8</a>\u001b[0m \u001b[39mprint\u001b[39m(\u001b[39m\"\u001b[39m\u001b[39mRandom Forest\u001b[39m\u001b[39m\"\u001b[39m)\n\u001b[0;32m      <a href='vscode-notebook-cell:/c%3A/Users/nicol/OneDrive%20-%20De%20Vinci/Documents/ESILV/A4/Python/Python-Diabete/Final_project.ipynb#X36sZmlsZQ%3D%3D?line=8'>9</a>\u001b[0m \u001b[39mprint\u001b[39m(\u001b[39m'\u001b[39m\u001b[39mTraining:\u001b[39m\u001b[39m'\u001b[39m)\n\u001b[1;32m---> <a href='vscode-notebook-cell:/c%3A/Users/nicol/OneDrive%20-%20De%20Vinci/Documents/ESILV/A4/Python/Python-Diabete/Final_project.ipynb#X36sZmlsZQ%3D%3D?line=9'>10</a>\u001b[0m rf_train_auc, rf_train_accuracy, rf_train_recall, rf_train_precision,rf_train_fscore, rf_train_specificity \u001b[39m=\u001b[39mprint_report(y_train,y_train_preds, thresh)\n\u001b[0;32m     <a href='vscode-notebook-cell:/c%3A/Users/nicol/OneDrive%20-%20De%20Vinci/Documents/ESILV/A4/Python/Python-Diabete/Final_project.ipynb#X36sZmlsZQ%3D%3D?line=10'>11</a>\u001b[0m \u001b[39mprint\u001b[39m(\u001b[39m'\u001b[39m\u001b[39mValidation:\u001b[39m\u001b[39m'\u001b[39m)\n\u001b[0;32m     <a href='vscode-notebook-cell:/c%3A/Users/nicol/OneDrive%20-%20De%20Vinci/Documents/ESILV/A4/Python/Python-Diabete/Final_project.ipynb#X36sZmlsZQ%3D%3D?line=11'>12</a>\u001b[0m rf_val_auc, rf_val_accuracy, rf_val_recall, rf_val_precision,rf_val_fscore, rf_val_specificity \u001b[39m=\u001b[39m print_report(y_val,y_val_preds, thresh)\n",
      "\u001b[1;31mValueError\u001b[0m: not enough values to unpack (expected 6, got 5)"
     ]
    }
   ],
   "source": [
    "from sklearn.ensemble import RandomForestClassifier\n",
    "random_forest_model = RandomForestClassifier(random_state=42, n_jobs=-1, n_estimators=100, max_depth=3)\n",
    "random_forest_model.fit(X_train, y_train) \n",
    "\n",
    "y_train_preds = random_forest_model.predict_proba(X_train)[:,1]\n",
    "y_val_preds = random_forest_model.predict_proba(X_val)[:,1]\n",
    "\n",
    "print(\"Random Forest\")\n",
    "print('Training:')\n",
    "rf_train_auc, rf_train_accuracy, rf_train_recall, rf_train_precision,rf_train_fscore, rf_train_specificity =print_report(y_train,y_train_preds, thresh)\n",
    "print('Validation:')\n",
    "rf_val_auc, rf_val_accuracy, rf_val_recall, rf_val_precision,rf_val_fscore, rf_val_specificity = print_report(y_val,y_val_preds, thresh)"
   ]
  },
  {
   "cell_type": "code",
   "execution_count": null,
   "metadata": {},
   "outputs": [
    {
     "name": "stdout",
     "output_type": "stream",
     "text": [
      "R^2: 0.002604371877172218\n",
      "Adjusted R^2: 0.0006678792413318257\n",
      "MAE: 0.19180599059142786\n",
      "MSE: 0.10083304507444076\n",
      "RMSE: 0.31754219416392643\n"
     ]
    }
   ],
   "source": [
    "from xgboost import XGBRegressor\n",
    "reg = XGBRegressor()\n",
    "reg.fit(X_train, y_train)\n",
    "\n",
    "y_test_pred = reg.predict(X_test)\n",
    "acc_xgb = r2_score(y_test, y_test_pred)\n",
    "print('R^2:', acc_xgb)\n",
    "print('Adjusted R^2:',1 - (1-r2_score(y_test, y_test_pred))*(len(y_test)-1)/(len(y_test)-X_test.shape[1]-1))\n",
    "print('MAE:',mean_absolute_error(y_test, y_test_pred))\n",
    "print('MSE:',mean_squared_error(y_test, y_test_pred))\n",
    "print('RMSE:',np.sqrt(mean_squared_error(y_test, y_test_pred)))"
   ]
  },
  {
   "cell_type": "code",
   "execution_count": null,
   "metadata": {},
   "outputs": [
    {
     "data": {
      "text/html": [
       "<div>\n",
       "<style scoped>\n",
       "    .dataframe tbody tr th:only-of-type {\n",
       "        vertical-align: middle;\n",
       "    }\n",
       "\n",
       "    .dataframe tbody tr th {\n",
       "        vertical-align: top;\n",
       "    }\n",
       "\n",
       "    .dataframe thead th {\n",
       "        text-align: right;\n",
       "    }\n",
       "</style>\n",
       "<table border=\"1\" class=\"dataframe\">\n",
       "  <thead>\n",
       "    <tr style=\"text-align: right;\">\n",
       "      <th></th>\n",
       "      <th>Model</th>\n",
       "      <th>R-squared Score</th>\n",
       "    </tr>\n",
       "  </thead>\n",
       "  <tbody>\n",
       "    <tr>\n",
       "      <th>0</th>\n",
       "      <td>Linear Regression</td>\n",
       "      <td>100.000000</td>\n",
       "    </tr>\n",
       "    <tr>\n",
       "      <th>2</th>\n",
       "      <td>XGBoost</td>\n",
       "      <td>0.000000</td>\n",
       "    </tr>\n",
       "    <tr>\n",
       "      <th>1</th>\n",
       "      <td>Random Forest</td>\n",
       "      <td>-32.724937</td>\n",
       "    </tr>\n",
       "  </tbody>\n",
       "</table>\n",
       "</div>"
      ],
      "text/plain": [
       "               Model  R-squared Score\n",
       "0  Linear Regression       100.000000\n",
       "2            XGBoost         0.000000\n",
       "1      Random Forest       -32.724937"
      ]
     },
     "execution_count": 62,
     "metadata": {},
     "output_type": "execute_result"
    }
   ],
   "source": [
    "models = pd.DataFrame({\n",
    "    'Model': ['Linear Regression', 'Random Forest', 'XGBoost'],\n",
    "    'R-squared Score': [acc_linreg*100, acc_rf*100, acc_xgb*100]})\n",
    "models.sort_values(by='R-squared Score', ascending=False)"
   ]
  }
 ],
 "metadata": {
  "kernelspec": {
   "display_name": "Python 3.9.13 64-bit (microsoft store)",
   "language": "python",
   "name": "python3"
  },
  "language_info": {
   "codemirror_mode": {
    "name": "ipython",
    "version": 3
   },
   "file_extension": ".py",
   "mimetype": "text/x-python",
   "name": "python",
   "nbconvert_exporter": "python",
   "pygments_lexer": "ipython3",
   "version": "3.9.13"
  },
  "orig_nbformat": 4,
  "vscode": {
   "interpreter": {
    "hash": "837127ec35c91e86170fdd1e56dc7f7c1e274626e9c541191aa390ab4e003e34"
   }
  }
 },
 "nbformat": 4,
 "nbformat_minor": 2
}
